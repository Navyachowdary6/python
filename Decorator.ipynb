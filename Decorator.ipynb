{
 "cells": [
  {
   "cell_type": "code",
   "execution_count": null,
   "id": "e94e5c92-b55e-4dd6-b55e-1625951c4177",
   "metadata": {},
   "outputs": [],
   "source": [
    "# functions within functions"
   ]
  },
  {
   "cell_type": "code",
   "execution_count": 1,
   "id": "8cc55cb3-11ab-407b-b1d4-a690728750f7",
   "metadata": {},
   "outputs": [],
   "source": [
    "def hello(name = 'Akki'):\n",
    "    print('The hello() has been executed')\n",
    "    def greet():\n",
    "        return '\\t This inside the greet() function'\n",
    "    def welcome():\n",
    "        return '\\t This inside the welcome() function'\n",
    "    print(greet())\n",
    "    print(welcome())\n",
    "    print(\"Now we are back inside the hello() function\")"
   ]
  },
  {
   "cell_type": "code",
   "execution_count": 3,
   "id": "025289ee-58ba-4eba-bc46-dd78338789ba",
   "metadata": {},
   "outputs": [
    {
     "name": "stdout",
     "output_type": "stream",
     "text": [
      "The hello() has been executed\n",
      "\t This inside the greet() function\n",
      "\t This inside the welcome() function\n",
      "Now we are back inside the hello() function\n"
     ]
    }
   ],
   "source": [
    "hello()"
   ]
  },
  {
   "cell_type": "code",
   "execution_count": 5,
   "id": "f4259624-5a11-47a3-a2f2-d30843e84bb9",
   "metadata": {},
   "outputs": [
    {
     "data": {
      "text/plain": [
       "<function __main__.hello(name='Akki')>"
      ]
     },
     "execution_count": 5,
     "metadata": {},
     "output_type": "execute_result"
    }
   ],
   "source": [
    "hello"
   ]
  },
  {
   "cell_type": "code",
   "execution_count": null,
   "id": "554b981e-4351-49a7-b74a-c783fb2949ed",
   "metadata": {},
   "outputs": [],
   "source": [
    "# return of functions"
   ]
  },
  {
   "cell_type": "code",
   "execution_count": 7,
   "id": "f8ac09b6-7f60-4445-a9e3-24a0bd89830f",
   "metadata": {},
   "outputs": [],
   "source": [
    "def hello(name = 'Akki'):\n",
    "    print('The hello() has been executed')\n",
    "    def greet():\n",
    "        return '\\t This inside the greet() function'\n",
    "    def welcome():\n",
    "        return '\\t This inside the welcome() function'\n",
    "    if name == 'Akki':\n",
    "        return greet\n",
    "    else:\n",
    "        return welcome"
   ]
  },
  {
   "cell_type": "code",
   "execution_count": 9,
   "id": "f3db1fdc-b68c-43a1-b60f-2fefe5a900f7",
   "metadata": {},
   "outputs": [
    {
     "name": "stdout",
     "output_type": "stream",
     "text": [
      "The hello() has been executed\n"
     ]
    }
   ],
   "source": [
    "x = hello()"
   ]
  },
  {
   "cell_type": "code",
   "execution_count": 11,
   "id": "76cc0cd2-7873-403d-996e-cab8c242df29",
   "metadata": {},
   "outputs": [
    {
     "name": "stdout",
     "output_type": "stream",
     "text": [
      "\t This inside the greet() function\n"
     ]
    }
   ],
   "source": [
    "print(x())"
   ]
  },
  {
   "cell_type": "code",
   "execution_count": null,
   "id": "af8dc199-63c7-4e12-9b91-a3368041ebf8",
   "metadata": {},
   "outputs": [],
   "source": [
    "# functions as arguments"
   ]
  },
  {
   "cell_type": "code",
   "execution_count": 13,
   "id": "6602123a-6361-474b-8d47-b4cd1488379b",
   "metadata": {},
   "outputs": [],
   "source": [
    "def hello():\n",
    "    return 'Hi Akki!!'\n",
    "def other(func):\n",
    "    print(\"Other code would go here\")\n",
    "    print(func())"
   ]
  },
  {
   "cell_type": "code",
   "execution_count": 15,
   "id": "7eb43ade-23d8-4fb2-8940-74d8cc800e61",
   "metadata": {},
   "outputs": [
    {
     "name": "stdout",
     "output_type": "stream",
     "text": [
      "Other code would go here\n",
      "Hi Akki!!\n"
     ]
    }
   ],
   "source": [
    "other(hello)"
   ]
  },
  {
   "cell_type": "code",
   "execution_count": null,
   "id": "3c6e5d4f-9de0-452d-90cb-26c129319817",
   "metadata": {},
   "outputs": [],
   "source": [
    "# Creating a decorator"
   ]
  },
  {
   "cell_type": "code",
   "execution_count": 17,
   "id": "ad07452a-5820-468d-91b2-dd50d2a31b39",
   "metadata": {},
   "outputs": [],
   "source": [
    "def new_decorator(func):\n",
    "    def wrap_func():\n",
    "        print(\"Code would be here , before execute the func\")\n",
    "        func()\n",
    "        print(\"Code here execute after the func()\")\n",
    "    return wrap_func\n",
    "def func_needs_decorator():\n",
    "    print(\"This function is in need of Decorator\")"
   ]
  },
  {
   "cell_type": "code",
   "execution_count": 19,
   "id": "2af60ca1-00a4-489c-aa7b-05757c8497d8",
   "metadata": {},
   "outputs": [
    {
     "name": "stdout",
     "output_type": "stream",
     "text": [
      "This function is in need of Decorator\n"
     ]
    }
   ],
   "source": [
    "func_needs_decorator()"
   ]
  },
  {
   "cell_type": "code",
   "execution_count": 23,
   "id": "a6e88113-ef6e-4927-bb05-a5ce8fe339f7",
   "metadata": {},
   "outputs": [],
   "source": [
    "func_needs_decorator = new_decorator(func_needs_decorator)"
   ]
  },
  {
   "cell_type": "code",
   "execution_count": 25,
   "id": "84b2a225-732e-4041-b4b5-f5244287910c",
   "metadata": {},
   "outputs": [
    {
     "name": "stdout",
     "output_type": "stream",
     "text": [
      "Code would be here , before execute the func\n",
      "This function is in need of Decorator\n",
      "Code here execute after the func()\n"
     ]
    }
   ],
   "source": [
    "func_needs_decorator()"
   ]
  },
  {
   "cell_type": "code",
   "execution_count": 31,
   "id": "6586a49b-b1b6-457f-9e72-79064fc41af8",
   "metadata": {},
   "outputs": [],
   "source": [
    "# @new_decorator\n",
    "def func_needs_decorator():\n",
    "    print(\"This function is in need of Decorator\")"
   ]
  },
  {
   "cell_type": "code",
   "execution_count": 33,
   "id": "f253eb01-759e-4660-a905-9f20b2f2b851",
   "metadata": {},
   "outputs": [
    {
     "name": "stdout",
     "output_type": "stream",
     "text": [
      "This function is in need of Decorator\n"
     ]
    }
   ],
   "source": [
    "func_needs_decorator()"
   ]
  },
  {
   "cell_type": "code",
   "execution_count": null,
   "id": "84dbd0d1-f391-4c72-82f2-7a98e2ed56ce",
   "metadata": {},
   "outputs": [],
   "source": []
  }
 ],
 "metadata": {
  "kernelspec": {
   "display_name": "Python [conda env:base] *",
   "language": "python",
   "name": "conda-base-py"
  },
  "language_info": {
   "codemirror_mode": {
    "name": "ipython",
    "version": 3
   },
   "file_extension": ".py",
   "mimetype": "text/x-python",
   "name": "python",
   "nbconvert_exporter": "python",
   "pygments_lexer": "ipython3",
   "version": "3.12.7"
  }
 },
 "nbformat": 4,
 "nbformat_minor": 5
}
